{
 "cells": [
  {
   "cell_type": "code",
   "execution_count": null,
   "metadata": {},
   "outputs": [],
   "source": [
    "#!/usr/bin/env python3\n",
    "from functools import partial\n",
    "from itertools import repeat\n",
    "from multiprocessing import Pool, freeze_support\n",
    "\n",
    "def func(a, b):\n",
    "    return a + b\n",
    "\n",
    "def main():\n",
    "    a_args = [1,2,3]\n",
    "    second_arg = 1\n",
    "    with Pool() as pool:\n",
    "        L = pool.starmap(func, [(1, 1), (2, 1), (3, 1)])\n",
    "        M = pool.starmap(func, zip(a_args, repeat(second_arg)))\n",
    "        N = pool.map(partial(func, b=second_arg), a_args)\n",
    "        assert L == M == N\n",
    "\n",
    "if __name__==\"__main__\":\n",
    "    freeze_support()\n",
    "    main()"
   ]
  }
 ],
 "metadata": {
  "language_info": {
   "name": "python"
  }
 },
 "nbformat": 4,
 "nbformat_minor": 2
}
