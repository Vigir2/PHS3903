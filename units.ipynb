{
 "cells": [
  {
   "cell_type": "code",
   "execution_count": 1,
   "metadata": {},
   "outputs": [],
   "source": [
    "from pint import UnitRegistry\n",
    "ureg = UnitRegistry()"
   ]
  },
  {
   "cell_type": "code",
   "execution_count": 9,
   "metadata": {},
   "outputs": [
    {
     "name": "stdout",
     "output_type": "stream",
     "text": [
      "139.12463824629478 kilojoule * nanometer / elementary_charge ** 2\n"
     ]
    }
   ],
   "source": [
    "k = ureg.Quantity(9e9, 'N * m^2 / C^2')\n",
    "print(k.to(\"kJ * nm / e^2\") * 6.022e23)"
   ]
  }
 ],
 "metadata": {
  "kernelspec": {
   "display_name": "A23",
   "language": "python",
   "name": "python3"
  },
  "language_info": {
   "codemirror_mode": {
    "name": "ipython",
    "version": 3
   },
   "file_extension": ".py",
   "mimetype": "text/x-python",
   "name": "python",
   "nbconvert_exporter": "python",
   "pygments_lexer": "ipython3",
   "version": "3.12.0"
  }
 },
 "nbformat": 4,
 "nbformat_minor": 2
}
